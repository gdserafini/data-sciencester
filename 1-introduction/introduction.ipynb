{
 "cells": [
  {
   "cell_type": "markdown",
   "metadata": {},
   "source": [
    "# Finding key connectors"
   ]
  },
  {
   "cell_type": "code",
   "execution_count": 1,
   "metadata": {},
   "outputs": [],
   "source": [
    "users: list = [\n",
    "    { \"id\": 0, \"name\": \"Hero\" },\n",
    "    { \"id\": 1, \"name\": \"Dunn\" },\n",
    "    { \"id\": 2, \"name\": \"Sue\" },\n",
    "    { \"id\": 3, \"name\": \"Chi\" },\n",
    "    { \"id\": 4, \"name\": \"Thor\" },\n",
    "    { \"id\": 5, \"name\": \"Clive\" },\n",
    "    { \"id\": 6, \"name\": \"Hicks\" },\n",
    "    { \"id\": 7, \"name\": \"Devin\" },\n",
    "    { \"id\": 8, \"name\": \"Kate\" },\n",
    "    { \"id\": 9, \"name\": \"Klein\" }\n",
    "]\n",
    "\n",
    "friendship_pairs: list = [\n",
    "    (0, 1), (0, 2), (1, 2), \n",
    "    (1, 3), (2, 3), (3, 4),\n",
    "    (4, 5), (5, 6), (5, 7), \n",
    "    (6, 8), (7, 8), (8, 9)\n",
    "]"
   ]
  },
  {
   "cell_type": "code",
   "execution_count": 2,
   "metadata": {},
   "outputs": [
    {
     "data": {
      "text/plain": [
       "{0: [1, 2],\n",
       " 1: [0, 2, 3],\n",
       " 2: [0, 1, 3],\n",
       " 3: [1, 2, 4],\n",
       " 4: [3, 5],\n",
       " 5: [4, 6, 7],\n",
       " 6: [5, 8],\n",
       " 7: [5, 8],\n",
       " 8: [6, 7, 9],\n",
       " 9: [8]}"
      ]
     },
     "execution_count": 2,
     "metadata": {},
     "output_type": "execute_result"
    }
   ],
   "source": [
    "friendships = {user['id']: [] for user in users}\n",
    "\n",
    "for i, j in friendship_pairs:\n",
    "    friendships[i].append(j)\n",
    "    friendships[j].append(i)\n",
    "    \n",
    "friendships"
   ]
  },
  {
   "cell_type": "code",
   "execution_count": 3,
   "metadata": {},
   "outputs": [
    {
     "name": "stdout",
     "output_type": "stream",
     "text": [
      "Total of connections: 24\n",
      "Connections mean: 2.4\n"
     ]
    }
   ],
   "source": [
    "def number_of_friends(user):\n",
    "    return len(friendships[user['id']])\n",
    "\n",
    "total = sum(number_of_friends(user) for user in users)\n",
    "\n",
    "print(f'Total of connections: {total}')\n",
    "print(f'Connections mean: {total/len(users)}')"
   ]
  },
  {
   "cell_type": "code",
   "execution_count": 4,
   "metadata": {},
   "outputs": [
    {
     "data": {
      "text/plain": [
       "[(1, 3),\n",
       " (2, 3),\n",
       " (3, 3),\n",
       " (5, 3),\n",
       " (8, 3),\n",
       " (0, 2),\n",
       " (4, 2),\n",
       " (6, 2),\n",
       " (7, 2),\n",
       " (9, 1)]"
      ]
     },
     "execution_count": 4,
     "metadata": {},
     "output_type": "execute_result"
    }
   ],
   "source": [
    "number_friends_by_id = [\n",
    "    (user['id'], number_of_friends(user))\n",
    "    for user in users    \n",
    "]\n",
    "\n",
    "number_friends_by_id.sort(\n",
    "    key=lambda id_and_friends: id_and_friends[1],\n",
    "    reverse = True \n",
    ")\n",
    "\n",
    "number_friends_by_id"
   ]
  },
  {
   "cell_type": "markdown",
   "metadata": {},
   "source": [
    "# Data scientists you may know"
   ]
  },
  {
   "cell_type": "code",
   "execution_count": 5,
   "metadata": {},
   "outputs": [
    {
     "data": {
      "text/plain": [
       "[0, 2, 3, 0, 1, 3]"
      ]
     },
     "execution_count": 5,
     "metadata": {},
     "output_type": "execute_result"
    }
   ],
   "source": [
    "def foaf_ids_complete(user):\n",
    "    return [\n",
    "        foaf_id\n",
    "        for friend_id in friendships[user['id']]\n",
    "        for foaf_id in friendships[friend_id]\n",
    "    ]\n",
    "\n",
    "foaf_ids_complete(users[0])"
   ]
  },
  {
   "cell_type": "code",
   "execution_count": 6,
   "metadata": {},
   "outputs": [
    {
     "data": {
      "text/plain": [
       "Counter({0: 2, 5: 1})"
      ]
     },
     "execution_count": 6,
     "metadata": {},
     "output_type": "execute_result"
    }
   ],
   "source": [
    "from collections import Counter\n",
    "\n",
    "def foaf(user):\n",
    "    return Counter(\n",
    "        foaf_id\n",
    "        for friend_id in friendships[user['id']]\n",
    "        for foaf_id in friendships[friend_id]\n",
    "            if foaf_id != user['id'] and\n",
    "                foaf_id not in friendships[user['id']]\n",
    "    )\n",
    "\n",
    "foaf(users[3])"
   ]
  },
  {
   "cell_type": "code",
   "execution_count": 7,
   "metadata": {},
   "outputs": [],
   "source": [
    "interests = [\n",
    "    (0, \"Hadoop\"), (0, \"Big Data\"), (0, \"HBase\"), (0, \"Java\"),\n",
    "    (0, \"Spark\"), (0, \"Storm\"), (0, \"Cassandra\"),\n",
    "    (1, \"NoSQL\"), (1, \"MongoDB\"), (1, \"Cassandra\"), (1, \"HBase\"),\n",
    "    (1, \"Postgres\"), (2, \"Python\"), (2, \"scikit-learn\"), (2, \"scipy\"),\n",
    "    (2, \"numpy\"), (2, \"statsmodels\"), (2, \"pandas\"), (3, \"R\"), (3, \"Python\"),\n",
    "    (3, \"statistics\"), (3, \"regression\"), (3, \"probability\"),\n",
    "    (4, \"machine learning\"), (4, \"regression\"), (4, \"decision trees\"),\n",
    "    (4, \"libsvm\"), (5, \"Python\"), (5, \"R\"), (5, \"Java\"), (5, \"C++\"),\n",
    "    (5, \"Haskell\"), (5, \"programming languages\"), (6, \"statistics\"),\n",
    "    (6, \"probability\"), (6, \"mathematics\"), (6, \"theory\"),\n",
    "    (7, \"machine learning\"), (7, \"scikit-learn\"), (7, \"Mahout\"),\n",
    "    (7, \"neural networks\"), (8, \"neural networks\"), (8, \"deep learning\"),\n",
    "    (8, \"Big Data\"), (8, \"artificial intelligence\"), (9, \"Hadoop\"),\n",
    "    (9, \"Java\"), (9, \"MapReduce\"), (9, \"Big Data\")\n",
    "]"
   ]
  },
  {
   "cell_type": "code",
   "execution_count": 8,
   "metadata": {},
   "outputs": [
    {
     "data": {
      "text/plain": [
       "[4, 7]"
      ]
     },
     "execution_count": 8,
     "metadata": {},
     "output_type": "execute_result"
    }
   ],
   "source": [
    "def common_interests(target_insterest):\n",
    "    return [\n",
    "        user_id\n",
    "        for user_id, user_interest in interests\n",
    "            if user_interest == target_insterest\n",
    "    ]\n",
    "\n",
    "common_interests('machine learning')"
   ]
  },
  {
   "cell_type": "code",
   "execution_count": 9,
   "metadata": {},
   "outputs": [
    {
     "data": {
      "text/plain": [
       "defaultdict(list,\n",
       "            {'Hadoop': [0, 9],\n",
       "             'Big Data': [0, 8, 9],\n",
       "             'HBase': [0, 1],\n",
       "             'Java': [0, 5, 9],\n",
       "             'Spark': [0],\n",
       "             'Storm': [0],\n",
       "             'Cassandra': [0, 1],\n",
       "             'NoSQL': [1],\n",
       "             'MongoDB': [1],\n",
       "             'Postgres': [1],\n",
       "             'Python': [2, 3, 5],\n",
       "             'scikit-learn': [2, 7],\n",
       "             'scipy': [2],\n",
       "             'numpy': [2],\n",
       "             'statsmodels': [2],\n",
       "             'pandas': [2],\n",
       "             'R': [3, 5],\n",
       "             'statistics': [3, 6],\n",
       "             'regression': [3, 4],\n",
       "             'probability': [3, 6],\n",
       "             'machine learning': [4, 7],\n",
       "             'decision trees': [4],\n",
       "             'libsvm': [4],\n",
       "             'C++': [5],\n",
       "             'Haskell': [5],\n",
       "             'programming languages': [5],\n",
       "             'mathematics': [6],\n",
       "             'theory': [6],\n",
       "             'Mahout': [7],\n",
       "             'neural networks': [7, 8],\n",
       "             'deep learning': [8],\n",
       "             'artificial intelligence': [8],\n",
       "             'MapReduce': [9]})"
      ]
     },
     "execution_count": 9,
     "metadata": {},
     "output_type": "execute_result"
    }
   ],
   "source": [
    "from collections import defaultdict\n",
    "\n",
    "user_ids_by_interest = defaultdict(list)\n",
    "\n",
    "for user_id, interest in interests:\n",
    "    user_ids_by_interest[interest].append(user_id)\n",
    "\n",
    "user_ids_by_interest"
   ]
  },
  {
   "cell_type": "code",
   "execution_count": 10,
   "metadata": {},
   "outputs": [
    {
     "data": {
      "text/plain": [
       "defaultdict(list,\n",
       "            {0: ['Hadoop',\n",
       "              'Big Data',\n",
       "              'HBase',\n",
       "              'Java',\n",
       "              'Spark',\n",
       "              'Storm',\n",
       "              'Cassandra'],\n",
       "             1: ['NoSQL', 'MongoDB', 'Cassandra', 'HBase', 'Postgres'],\n",
       "             2: ['Python',\n",
       "              'scikit-learn',\n",
       "              'scipy',\n",
       "              'numpy',\n",
       "              'statsmodels',\n",
       "              'pandas'],\n",
       "             3: ['R', 'Python', 'statistics', 'regression', 'probability'],\n",
       "             4: ['machine learning', 'regression', 'decision trees', 'libsvm'],\n",
       "             5: ['Python',\n",
       "              'R',\n",
       "              'Java',\n",
       "              'C++',\n",
       "              'Haskell',\n",
       "              'programming languages'],\n",
       "             6: ['statistics', 'probability', 'mathematics', 'theory'],\n",
       "             7: ['machine learning',\n",
       "              'scikit-learn',\n",
       "              'Mahout',\n",
       "              'neural networks'],\n",
       "             8: ['neural networks',\n",
       "              'deep learning',\n",
       "              'Big Data',\n",
       "              'artificial intelligence'],\n",
       "             9: ['Hadoop', 'Java', 'MapReduce', 'Big Data']})"
      ]
     },
     "execution_count": 10,
     "metadata": {},
     "output_type": "execute_result"
    }
   ],
   "source": [
    "interest_by_user_id = defaultdict(list)\n",
    "\n",
    "for user_id, interest in interests:\n",
    "    interest_by_user_id[user_id].append(interest)\n",
    "\n",
    "interest_by_user_id"
   ]
  },
  {
   "cell_type": "code",
   "execution_count": 12,
   "metadata": {},
   "outputs": [
    {
     "data": {
      "text/plain": [
       "Counter({9: 3, 8: 1, 1: 2, 5: 1})"
      ]
     },
     "execution_count": 12,
     "metadata": {},
     "output_type": "execute_result"
    }
   ],
   "source": [
    "def most_common_interests(user):\n",
    "    return Counter(\n",
    "        interested_user_id\n",
    "        for interest in interest_by_user_id[user['id']]\n",
    "        for interested_user_id in user_ids_by_interest[interest]\n",
    "        if interested_user_id != user['id']\n",
    "    )\n",
    "\n",
    "most_common_interests(users[0])"
   ]
  }
 ],
 "metadata": {
  "kernelspec": {
   "display_name": "data-sciencester_venv",
   "language": "python",
   "name": "python3"
  },
  "language_info": {
   "codemirror_mode": {
    "name": "ipython",
    "version": 3
   },
   "file_extension": ".py",
   "mimetype": "text/x-python",
   "name": "python",
   "nbconvert_exporter": "python",
   "pygments_lexer": "ipython3",
   "version": "3.6.13"
  }
 },
 "nbformat": 4,
 "nbformat_minor": 2
}
