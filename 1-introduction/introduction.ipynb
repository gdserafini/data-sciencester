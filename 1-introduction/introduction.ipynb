{
 "cells": [
  {
   "cell_type": "markdown",
   "metadata": {},
   "source": [
    "# Finding key connectors"
   ]
  },
  {
   "cell_type": "code",
   "execution_count": 3,
   "metadata": {},
   "outputs": [],
   "source": [
    "users: list = [\n",
    "    { \"id\": 0, \"name\": \"Hero\" },\n",
    "    { \"id\": 1, \"name\": \"Dunn\" },\n",
    "    { \"id\": 2, \"name\": \"Sue\" },\n",
    "    { \"id\": 3, \"name\": \"Chi\" },\n",
    "    { \"id\": 4, \"name\": \"Thor\" },\n",
    "    { \"id\": 5, \"name\": \"Clive\" },\n",
    "    { \"id\": 6, \"name\": \"Hicks\" },\n",
    "    { \"id\": 7, \"name\": \"Devin\" },\n",
    "    { \"id\": 8, \"name\": \"Kate\" },\n",
    "    { \"id\": 9, \"name\": \"Klein\" }\n",
    "]\n",
    "\n",
    "friendship_pairs: list = [\n",
    "    (0, 1), (0, 2), (1, 2), \n",
    "    (1, 3), (2, 3), (3, 4),\n",
    "    (4, 5), (5, 6), (5, 7), \n",
    "    (6, 8), (7, 8), (8, 9)\n",
    "]"
   ]
  },
  {
   "cell_type": "code",
   "execution_count": 7,
   "metadata": {},
   "outputs": [
    {
     "data": {
      "text/plain": [
       "{0: [1, 2],\n",
       " 1: [0, 2, 3],\n",
       " 2: [0, 1, 3],\n",
       " 3: [1, 2, 4],\n",
       " 4: [3, 5],\n",
       " 5: [4, 6, 7],\n",
       " 6: [5, 8],\n",
       " 7: [5, 8],\n",
       " 8: [6, 7, 9],\n",
       " 9: [8]}"
      ]
     },
     "execution_count": 7,
     "metadata": {},
     "output_type": "execute_result"
    }
   ],
   "source": [
    "friendships = {user['id']: [] for user in users}\n",
    "\n",
    "for i, j in friendship_pairs:\n",
    "    friendships[i].append(j)\n",
    "    friendships[j].append(i)\n",
    "    \n",
    "friendships"
   ]
  },
  {
   "cell_type": "code",
   "execution_count": 9,
   "metadata": {},
   "outputs": [
    {
     "name": "stdout",
     "output_type": "stream",
     "text": [
      "Total of connections: 24\n",
      "Connections mean: 2.4\n"
     ]
    }
   ],
   "source": [
    "def number_of_friends(user):\n",
    "    return len(friendships[user['id']])\n",
    "\n",
    "total = sum(number_of_friends(user) for user in users)\n",
    "\n",
    "print(f'Total of connections: {total}')\n",
    "print(f'Connections mean: {total/len(users)}')"
   ]
  },
  {
   "cell_type": "code",
   "execution_count": 10,
   "metadata": {},
   "outputs": [
    {
     "data": {
      "text/plain": [
       "[(1, 3),\n",
       " (2, 3),\n",
       " (3, 3),\n",
       " (5, 3),\n",
       " (8, 3),\n",
       " (0, 2),\n",
       " (4, 2),\n",
       " (6, 2),\n",
       " (7, 2),\n",
       " (9, 1)]"
      ]
     },
     "execution_count": 10,
     "metadata": {},
     "output_type": "execute_result"
    }
   ],
   "source": [
    "number_friends_by_id = [\n",
    "    (user['id'], number_of_friends(user))\n",
    "    for user in users    \n",
    "]\n",
    "\n",
    "number_friends_by_id.sort(\n",
    "    key=lambda id_and_friends: id_and_friends[1],\n",
    "    reverse = True \n",
    ")\n",
    "\n",
    "number_friends_by_id"
   ]
  }
 ],
 "metadata": {
  "kernelspec": {
   "display_name": "data-sciencester_venv",
   "language": "python",
   "name": "python3"
  },
  "language_info": {
   "codemirror_mode": {
    "name": "ipython",
    "version": 3
   },
   "file_extension": ".py",
   "mimetype": "text/x-python",
   "name": "python",
   "nbconvert_exporter": "python",
   "pygments_lexer": "ipython3",
   "version": "3.6.13"
  }
 },
 "nbformat": 4,
 "nbformat_minor": 2
}
